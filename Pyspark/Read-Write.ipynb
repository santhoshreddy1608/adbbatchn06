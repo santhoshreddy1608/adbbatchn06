{
 "cells": [
  {
   "cell_type": "code",
   "execution_count": 0,
   "metadata": {
    "application/vnd.databricks.v1+cell": {
     "cellMetadata": {},
     "inputWidgets": {},
     "nuid": "fbe8c5af-918e-40dd-81bd-eb7f6e857736",
     "showTitle": false,
     "tableResultSettingsMap": {},
     "title": ""
    }
   },
   "outputs": [],
   "source": [
    "item_price_df = myntra_df.groupBy(\"Brand Name\").agg(F.Sum(\"Price\").alias(\"Total Price\")\n",
    "item_price_df.display()"
   ]
  },
  {
   "cell_type": "code",
   "execution_count": 0,
   "metadata": {
    "application/vnd.databricks.v1+cell": {
     "cellMetadata": {},
     "inputWidgets": {},
     "nuid": "6eb095f1-ca91-407a-8d63-1cd0f3d333d8",
     "showTitle": false,
     "tableResultSettingsMap": {},
     "title": ""
    }
   },
   "outputs": [],
   "source": [
    "WindowSpec=window.Window.partitionBy(\"Brand Name\").orderBy(F.col(\"Discount\").desc())\n",
    "selected_df=(\n",
    "    myntra_df.withColumn(\"rn\", F.Row_number().over(WindowSpec))\n",
    "    .filter(F.col(\"rn\")<=2)\n",
    "    .drop(\"rn\")\n",
    ")\n",
    "Selected_df.display()"
   ]
  }
 ],
 "metadata": {
  "application/vnd.databricks.v1+notebook": {
   "computePreferences": null,
   "dashboards": [],
   "environmentMetadata": {
    "base_environment": "",
    "environment_version": "3"
   },
   "inputWidgetPreferences": null,
   "language": "python",
   "notebookMetadata": {
    "pythonIndentUnit": 4
   },
   "notebookName": "Read-Write",
   "widgets": {}
  },
  "language_info": {
   "name": "python"
  }
 },
 "nbformat": 4,
 "nbformat_minor": 0
}
