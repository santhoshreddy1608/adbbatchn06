{
 "cells": [
  {
   "cell_type": "code",
   "execution_count": 0,
   "metadata": {
    "application/vnd.databricks.v1+cell": {
     "cellMetadata": {},
     "inputWidgets": {},
     "nuid": "2f466f1e-2279-46d5-9399-11ffdfa51f84",
     "showTitle": false,
     "tableResultSettingsMap": {},
     "title": ""
    }
   },
   "outputs": [],
   "source": [
    "item_price_df = myntra_df.groupBy(\"Brand Name\").agg(F.Sum(\"Price\").alias(\"Total Price\")\n",
    "item_price_df.display()"
   ]
  },
  {
   "cell_type": "code",
   "execution_count": 0,
   "metadata": {
    "application/vnd.databricks.v1+cell": {
     "cellMetadata": {},
     "inputWidgets": {},
     "nuid": "7fafaeeb-1ddd-474c-b376-d1601f48de88",
     "showTitle": false,
     "tableResultSettingsMap": {},
     "title": ""
    }
   },
   "outputs": [],
   "source": [
    "WindowSpec=window.Window.partitionBy(\"Brand Name\").orderBy(F.col(\"Discount\").desc())\n",
    "selected_df=(\n",
    "    myntra_df.withColumn(\"rn\", F.Row_number().over(WindowSpec))\n",
    "    .filter(F.col(\"rn\")<=2)\n",
    "    .drop(\"rn\")\n",
    ")\n",
    "Selected_df.display()"
   ]
  }
 ],
 "metadata": {
  "application/vnd.databricks.v1+notebook": {
   "computePreferences": {
    "hardware": {
     "accelerator": null,
     "gpuPoolId": null,
     "memory": null
    }
   },
   "dashboards": [],
   "environmentMetadata": {
    "base_environment": "",
    "environment_version": "3"
   },
   "inputWidgetPreferences": null,
   "language": "python",
   "notebookMetadata": {
    "pythonIndentUnit": 4
   },
   "notebookName": "Read-Write",
   "widgets": {}
  },
  "language_info": {
   "name": "python"
  }
 },
 "nbformat": 4,
 "nbformat_minor": 0
}
